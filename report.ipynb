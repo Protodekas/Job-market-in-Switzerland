{
 "cells": [
  {
   "cell_type": "markdown",
   "id": "679681c7-4c67-4d33-a349-5cdd5974098a",
   "metadata": {},
   "source": [
    "# Evolution of the job market in Switzerland\n",
    "## Introduction\n",
    "\n",
    "## Dataset\n",
    "The dataset used for this analysis come from the [Swiss Job Tracker](https://swissjobtracker.ch/#/). More precisely, it is the [full dataset](https://datenservice.kof.ethz.ch/api/v1/public/collections/ch.kof.jobtracker?mime=csv&df=Y-m-d) and the [data description](https://datenservice.kof.ethz.ch/api/v1/public/metadata/collections/ch.kof.jobtracker?mime=csv) that were used (downloaded on 13.05.2025)."
   ]
  },
  {
   "cell_type": "code",
   "execution_count": null,
   "id": "42ca3a78-ad65-4f94-94df-e8c27854c4d9",
   "metadata": {},
   "outputs": [],
   "source": [
    "# === importing required packages ===\n",
    "import pandas as pd\n",
    "import json\n",
    "import matplotlib.pyplot as plt\n",
    "import seaborn as sns"
   ]
  },
  {
   "cell_type": "markdown",
   "id": "e15e476a-5e10-420a-8129-60895b27ee24",
   "metadata": {},
   "source": [
    "## Importing and cleaning the data\n"
   ]
  }
 ],
 "metadata": {
  "kernelspec": {
   "display_name": "Python 3 (ipykernel)",
   "language": "python",
   "name": "python3"
  },
  "language_info": {
   "codemirror_mode": {
    "name": "ipython",
    "version": 3
   },
   "file_extension": ".py",
   "mimetype": "text/x-python",
   "name": "python",
   "nbconvert_exporter": "python",
   "pygments_lexer": "ipython3",
   "version": "3.12.3"
  }
 },
 "nbformat": 4,
 "nbformat_minor": 5
}
